{
 "cells": [
  {
   "cell_type": "markdown",
   "metadata": {},
   "source": [
    "# MNIST dataset"
   ]
  },
  {
   "cell_type": "code",
   "execution_count": 1,
   "metadata": {
    "collapsed": true
   },
   "outputs": [],
   "source": [
    "import tensorflow as tf\n",
    "import numpy as np\n",
    "\n",
    "%matplotlib inline\n",
    "import matplotlib.pyplot as plt\n",
    "\n",
    "from scipy.misc import imresize\n",
    "from scipy.ndimage.interpolation import rotate"
   ]
  },
  {
   "cell_type": "markdown",
   "metadata": {},
   "source": [
    "## Download MNIST data"
   ]
  },
  {
   "cell_type": "code",
   "execution_count": 2,
   "metadata": {
    "collapsed": false
   },
   "outputs": [
    {
     "name": "stdout",
     "output_type": "stream",
     "text": [
      "Extracting MNIST_data/train-images-idx3-ubyte.gz\n",
      "Extracting MNIST_data/train-labels-idx1-ubyte.gz\n",
      "Extracting MNIST_data/t10k-images-idx3-ubyte.gz\n",
      "Extracting MNIST_data/t10k-labels-idx1-ubyte.gz\n"
     ]
    }
   ],
   "source": [
    "from tensorflow.examples.tutorials.mnist import input_data\n",
    "mnist_dataset = input_data.read_data_sets('Data/MNIST_data', one_hot=True)\n",
    "\n",
    "mnist = mnist_dataset.train.images\n",
    "label = mnist_dataset.train.labels"
   ]
  },
  {
   "cell_type": "markdown",
   "metadata": {},
   "source": [
    "## Some auxiliary funcions ready for you"
   ]
  },
  {
   "cell_type": "code",
   "execution_count": 3,
   "metadata": {
    "collapsed": true
   },
   "outputs": [],
   "source": [
    "def normalize(array):\n",
    "    \"\"\" Rescale images values to 0 to 1\n",
    "    \"\"\"\n",
    "    min_ = np.min(array)\n",
    "    max_ = np.max(array)\n",
    "    return (array - min_)/(max_ - min_)\n",
    "\n",
    "def hot_encode(N, array):\n",
    "    \"\"\" For each element in the array tranlate a number\n",
    "        category into a vector with N elements whose i'th\n",
    "        element is 1. The 0'th element is always 0\n",
    "        Example:\n",
    "        [1, 2, 3] -- N=4 --> [[0,1,0,0], [0,0,1,0], [0,0,0,1]]\n",
    "    \"\"\"\n",
    "    array_length = len(array)\n",
    "    encoded_array = np.ndarray((array_length, N))\n",
    "    encoded_array.fill(0)\n",
    "    for i in range(array_length):\n",
    "        encoded_array[i][array[i][0]] = 1\n",
    "    return encoded_array\n",
    "\n",
    "def create_shuffle_mask(n):\n",
    "    \"\"\" Create an array with with elements from 0 to n\n",
    "        in random order.\n",
    "        Example:\n",
    "        n = 4 -> [2, 1, 0, 3]\n",
    "    \"\"\"\n",
    "    mask = list(range(n))\n",
    "    np.random.shuffle(mask)\n",
    "    return mask\n",
    "\n",
    "def split_array(array, fraction, first):\n",
    "    \"\"\" Return a fraction of an array, first define if\n",
    "        should return the first or the last part.\n",
    "        Example:\n",
    "        [1,2,3,4] fraction=0.5 first=False -> [3,4]\n",
    "    \"\"\"\n",
    "    shape = list(array.shape)\n",
    "    shape[0] = int(shape[0] * fraction)\n",
    "    shape = tuple(shape)\n",
    "    \n",
    "    split = np.ndarray(shape)\n",
    "    if first:\n",
    "        split = array[:shape[0]]\n",
    "    else:\n",
    "        split = array[shape[0]:]\n",
    "    \n",
    "    return split\n",
    "\n",
    "def split_train_test(array, train_fraction = 0.7):\n",
    "    \"\"\" Divide an array into two arrays (train, test)\n",
    "        train array will contain train_fraction of\n",
    "        the elements of array.\n",
    "    \"\"\"\n",
    "    return (split_array(array, train_fraction, True),\n",
    "            split_array(array, train_fraction, False))\n",
    "\n",
    "def shuffle(array, mask):\n",
    "    \"\"\" Given an array and a ordering mask, create a new\n",
    "        array with elemets ordered by the mask.\n",
    "        Example:\n",
    "        array=[a, b, c, d] mask=[0, 1, 3, 2] -> [a, b, d, c]\n",
    "    \"\"\"\n",
    "    shuffle_array = np.ndarray(array.shape, dtype=float)\n",
    "    for i in range(len(array)):\n",
    "        shuffle_array[i] = array[mask[i]]\n",
    "    return shuffle_array\n",
    "\n",
    "def make_batched_dataset(array, batch_size):\n",
    "    \"\"\" Divede array in subarrays of batches of batch_size elements.\n",
    "    \"\"\"\n",
    "    array_length, array_width = array.shape\n",
    "    num_batches = array_length//batch_size\n",
    "    assert(array_length % batch_size == 0)\n",
    "\n",
    "    batched_array = np.ndarray((num_batches, batch_size, array_width))\n",
    "    for i, offset in enumerate(range(0, array_length, batch_size)):\n",
    "        batched_array[i] = array[offset:offset+batch_size]\n",
    "        \n",
    "    return batched_array"
   ]
  },
  {
   "cell_type": "markdown",
   "metadata": {},
   "source": [
    "# First we need to re-arrange data into train and test samples"
   ]
  },
  {
   "cell_type": "code",
   "execution_count": 4,
   "metadata": {
    "collapsed": true
   },
   "outputs": [],
   "source": [
    "# random shuffle datasets\n",
    "shuffle_mask = create_shuffle_mask(len(mnist))\n",
    "mnist = shuffle(mnist, shuffle_mask)\n",
    "label = shuffle(label, shuffle_mask)\n",
    "\n",
    "# split into train and test datasets\n",
    "mnist_train, mnist_test = split_train_test(mnist, 0.8)\n",
    "label_train, label_test = split_train_test(label, 0.8)\n",
    "\n",
    "# create batched versions of the datasets\n",
    "batch_size = 100\n",
    "batched_mnist_x = make_batched_dataset(mnist_train, batch_size)\n",
    "batched_mnist_y = make_batched_dataset(label_train, batch_size)"
   ]
  },
  {
   "cell_type": "markdown",
   "metadata": {},
   "source": [
    "# Define input and output placeholders"
   ]
  },
  {
   "cell_type": "code",
   "execution_count": 5,
   "metadata": {
    "collapsed": true
   },
   "outputs": [],
   "source": [
    "# Input variable for the images.\n",
    "x = tf.placeholder(tf.float32, [None, 28*28]) # 28 x 28 inputs\n",
    "\n",
    "# Prediction variable.\n",
    "y_ = tf.placeholder(tf.float32, [None, 10]) # 10 outputs"
   ]
  },
  {
   "cell_type": "markdown",
   "metadata": {},
   "source": [
    "# Create your Neural Network"
   ]
  },
  {
   "cell_type": "code",
   "execution_count": 6,
   "metadata": {
    "collapsed": true
   },
   "outputs": [],
   "source": [
    "def weight_variable(shape):\n",
    "    initial = tf.truncated_normal(shape, stddev=0.1)\n",
    "    return tf.Variable(initial)\n",
    "\n",
    "def bias_variable(shape):\n",
    "    initial = tf.constant(0.1, shape=shape)\n",
    "    return tf.Variable(initial)\n",
    "\n",
    "def multilayer_perceptron():\n",
    "    # First layer 300 neurons\n",
    "    n_1 = 300 \n",
    "    W1 = weight_variable([784, n_1])\n",
    "    b1 = bias_variable([n_1])\n",
    "    layer_1 = tf.matmul(x, W1) + b1\n",
    "    layer_1 = tf.nn.sigmoid(layer_1)\n",
    "    \n",
    "    # Second layer another 300 neurons\n",
    "    n_2 = 300\n",
    "    W2 = weight_variable([n_1, n_2])\n",
    "    b2 = bias_variable([n_2])\n",
    "    layer_2 = tf.matmul(layer_1, W2) + b2\n",
    "    layer_2 = tf.nn.sigmoid(layer_2)\n",
    "\n",
    "    # Output layer\n",
    "    W3 = weight_variable([n_2, 10])\n",
    "    b3 = bias_variable([10])\n",
    "    layer_3 = tf.matmul(layer_2, W3) + b3\n",
    "    \n",
    "    return layer_3"
   ]
  },
  {
   "cell_type": "markdown",
   "metadata": {},
   "source": [
    "# Train your Network"
   ]
  },
  {
   "cell_type": "code",
   "execution_count": 7,
   "metadata": {
    "collapsed": false
   },
   "outputs": [
    {
     "name": "stdout",
     "output_type": "stream",
     "text": [
      "epoch = 0:\n",
      "accuracy = 43.3%\n",
      "epoch = 1:\n",
      "accuracy = 62.1%\n",
      "epoch = 2:\n",
      "accuracy = 70.6%\n",
      "epoch = 3:\n",
      "accuracy = 75.0%\n",
      "epoch = 4:\n",
      "accuracy = 78.1%\n",
      "epoch = 5:\n",
      "accuracy = 80.1%\n",
      "epoch = 6:\n",
      "accuracy = 81.6%\n",
      "epoch = 7:\n",
      "accuracy = 82.7%\n",
      "epoch = 8:\n",
      "accuracy = 83.6%\n",
      "epoch = 9:\n",
      "accuracy = 84.3%\n",
      "epoch = 10:\n",
      "accuracy = 85.0%\n",
      "epoch = 11:\n",
      "accuracy = 85.6%\n",
      "epoch = 12:\n",
      "accuracy = 86.0%\n",
      "epoch = 13:\n",
      "accuracy = 86.5%\n",
      "epoch = 14:\n",
      "accuracy = 86.8%\n",
      "epoch = 15:\n",
      "accuracy = 87.2%\n",
      "epoch = 16:\n",
      "accuracy = 87.5%\n",
      "epoch = 17:\n",
      "accuracy = 87.8%\n",
      "epoch = 18:\n",
      "accuracy = 88.0%\n",
      "epoch = 19:\n",
      "accuracy = 88.2%\n",
      "epoch = 20:\n",
      "accuracy = 88.4%\n",
      "epoch = 21:\n",
      "accuracy = 88.6%\n",
      "epoch = 22:\n",
      "accuracy = 88.8%\n",
      "epoch = 23:\n",
      "accuracy = 89.0%\n",
      "epoch = 24:\n",
      "accuracy = 89.1%\n",
      "epoch = 25:\n",
      "accuracy = 89.2%\n",
      "epoch = 26:\n",
      "accuracy = 89.3%\n",
      "epoch = 27:\n",
      "accuracy = 89.4%\n",
      "epoch = 28:\n",
      "accuracy = 89.5%\n",
      "epoch = 29:\n",
      "accuracy = 89.6%\n",
      "\n",
      "Final result on trainning set:\n",
      "accuracy = 89.6%\n",
      "Final result on test set:\n",
      "accuracy = 89.2%\n"
     ]
    }
   ],
   "source": [
    "\n",
    "with tf.Session() as sess:\n",
    "    y = multilayer_perceptron()\n",
    "        \n",
    "    # Define cross_entropy and train_step with Gradient Descent Optimizer.\n",
    "    cross_entropy = tf.reduce_mean(tf.nn.softmax_cross_entropy_with_logits(y, y_))\n",
    "    train_step = tf.train.GradientDescentOptimizer(learning_rate=1e-2).minimize(cross_entropy)\n",
    "\n",
    "    # Define our accuracy measure. Accuracy = mean(correct_prediction)\n",
    "    correct_prediction = tf.equal(tf.argmax(y, 1), tf.argmax(y_, 1))\n",
    "    accuracy = tf.reduce_mean(tf.cast(correct_prediction, tf.float32))\n",
    "    \n",
    "    def print_accuracy(feed_dict):\n",
    "        accuracy_ = sess.run(accuracy, feed_dict)    \n",
    "        print('accuracy = {:2.1f}%'.format(100 * accuracy_))\n",
    "    \n",
    "    # Initialize session.\n",
    "    init = tf.initialize_all_variables()\n",
    "    sess.run(init)\n",
    "    \n",
    "    # Trainnig loop:\n",
    "    # Loop over epochs\n",
    "    epochs = 30\n",
    "    for e in range(epochs):\n",
    "        # Loop over batches.\n",
    "        batches, _, _ = batched_mnist_x.shape\n",
    "        for i in range(batches):\n",
    "            # Run train_step over batch i.\n",
    "            sess.run(train_step, \n",
    "                     feed_dict = {x: batched_mnist_x[i],\n",
    "                                  y_: batched_mnist_y[i]}\n",
    "                    )\n",
    "        \n",
    "        print('epoch = {}:'.format(e))\n",
    "        # Print accuracy each epoch.\n",
    "        print_accuracy({x: mnist_train, y_: label_train})\n",
    "\n",
    "    print()\n",
    "        \n",
    "    print('Final result on trainning set:')\n",
    "    # Print final accuracy on trainning set.\n",
    "    print_accuracy({x: mnist_train, y_: label_train})\n",
    "\n",
    "    print('Final result on test set:')\n",
    "    # Print final accuracy on test set.\n",
    "    print_accuracy({x: mnist_test, y_: label_test})\n",
    "    \n",
    "    # Store errors and predictions for future visualizations\n",
    "    errors = sess.run(correct_prediction,\n",
    "                      feed_dict = {x: mnist_test,\n",
    "                                   y_: label_test}\n",
    "                     )\n",
    "    \n",
    "    predictions = sess.run(y, \n",
    "                           feed_dict={x: mnist_test,\n",
    "                                      y_: label_test}\n",
    "                          )    "
   ]
  },
  {
   "cell_type": "markdown",
   "metadata": {},
   "source": [
    "# Let's visualize how the network is worknig"
   ]
  },
  {
   "cell_type": "code",
   "execution_count": 8,
   "metadata": {
    "collapsed": true
   },
   "outputs": [],
   "source": [
    "def print_mnist(ix, mnist, label, predicted=None, ax=None):\n",
    "    \"\"\" Print the image in the index ix, from the mnist dataset \n",
    "        and show the corresponding label and prediction(if any).\n",
    "    \"\"\"\n",
    "    if not ax:\n",
    "        ax = plt.subplot(111)\n",
    "    ax.matshow(mnist[ix].reshape((28,28)))\n",
    "    ax.get_xaxis().set_visible(False)\n",
    "    ax.get_yaxis().set_visible(False)\n",
    "    if type(predicted) != type(None):\n",
    "        ax.set_title('predicted = {}, label = {}'.format(\n",
    "                np.argmax(predicted), np.argmax(label[ix])))    \n",
    "    else:\n",
    "        ax.set_title('label = {}'.format(np.argmax(label[ix])))\n",
    "        \n",
    "def show_errors(errors, predictions):\n",
    "    \"\"\" Create a 4x4 grid with the erroneous predictions (maximum of 20)\n",
    "    \"\"\"\n",
    "    max_prints = 20\n",
    "    to_print = min(sum([ not e for e in errors]), max_prints)\n",
    "    cols = 4\n",
    "    rows = to_print//cols\n",
    "    if to_print % cols > 0:\n",
    "        rows += 1\n",
    "    fig, axes = plt.subplots(nrows=rows, ncols=cols, figsize=(cols*3,rows*3))\n",
    "    prints = 0\n",
    "    for i, is_error in enumerate(errors):\n",
    "        if not is_error:\n",
    "            print_mnist(i, mnist_test, label_test, predictions[i], \n",
    "                        axes[prints//cols, prints%cols])\n",
    "            prints += 1\n",
    "            if prints >= to_print:\n",
    "                break"
   ]
  },
  {
   "cell_type": "code",
   "execution_count": null,
   "metadata": {
    "collapsed": false
   },
   "outputs": [],
   "source": []
  },
  {
   "cell_type": "code",
   "execution_count": 9,
   "metadata": {
    "collapsed": false
   },
   "outputs": [
    {
     "data": {
      "image/png": "[encoded data removed]",
      "text/plain": [
       "<matplotlib.figure.Figure at 0x121436eb8>"
      ]
     },
     "metadata": {},
     "output_type": "display_data"
    }
   ],
   "source": [
    "show_errors(errors, predictions)"
   ]
  },
  {
   "cell_type": "markdown",
   "metadata": {},
   "source": [
    "# Enhancements"
   ]
  },
  {
   "cell_type": "markdown",
   "metadata": {},
   "source": [
    "# Convolutional Neural Network"
   ]
  },
  {
   "cell_type": "code",
   "execution_count": 10,
   "metadata": {
    "collapsed": false
   },
   "outputs": [],
   "source": [
    "keep_prob = tf.placeholder(tf.float32)\n",
    "\n",
    "def conv2d(x, W):\n",
    "    return tf.nn.conv2d(x, W, strides=[1, 1, 1, 1], padding='SAME')\n",
    "\n",
    "def max_pool_2x2(x):\n",
    "    return tf.nn.max_pool(x, ksize=[1, 2, 2, 1],\n",
    "                        strides=[1, 2, 2, 1], padding='SAME')\n",
    "\n",
    "def convolutional_model():\n",
    "    \"\"\" Convolutional neural network architecture:\n",
    "        Image -> Conv 5 x 5 x 32 -> Max pool 2 x 2 \n",
    "        -> Conv 5 x 5 x 64 -> Max pool 2 x 2\n",
    "        -> Fully Connected 1024 -> Dropout -> Redout\n",
    "    \"\"\"\n",
    "    # Reshape data if necesary\n",
    "    x_image = tf.reshape(x, [-1, 28, 28, 1])\n",
    "\n",
    "    # Add a First Convolutional layer 5x5 kernel with 32 features.\n",
    "    # Followed by a max pooling layer.\n",
    "    W_conv1 = weight_variable([5, 5, 1, 32])\n",
    "    b_conv1 = bias_variable([32])\n",
    "    \n",
    "    h_conv1 = tf.nn.relu(conv2d(x_image, W_conv1) + b_conv1)\n",
    "    h_pool1 = max_pool_2x2(h_conv1)\n",
    "    \n",
    "    # Add a Second Convolutional layer.\n",
    "    # Remember also a max pooling layer.\n",
    "    W_conv2 = weight_variable([5, 5, 32, 64])\n",
    "    b_conv2 = bias_variable([64])\n",
    "    \n",
    "    h_conv2 = tf.nn.relu(conv2d(h_pool1, W_conv2) + b_conv2)\n",
    "    h_pool2 = max_pool_2x2(h_conv2)\n",
    "\n",
    "    # Third layer is a fully connected layer\n",
    "    W_fc1 = weight_variable([7 * 7 * 64, 1024])\n",
    "    b_fc1 = bias_variable([1024])\n",
    "\n",
    "    h_pool2_flat = tf.reshape(h_pool2, [-1, 7 * 7 * 64])\n",
    "    h_fc1 = tf.nn.relu(tf.matmul(h_pool2_flat, W_fc1) + b_fc1)\n",
    "    \n",
    "    # A dropout layer to avoid overtraining\n",
    "    h_fc1_drop = tf.nn.dropout(h_fc1, keep_prob)\n",
    "    \n",
    "    # Readout layer\n",
    "    W_fc2 = weight_variable([1024, 10])\n",
    "    b_fc2 = bias_variable([10])\n",
    "\n",
    "    return tf.matmul(h_fc1_drop, W_fc2) + b_fc2"
   ]
  },
  {
   "cell_type": "markdown",
   "metadata": {},
   "source": [
    "# Enhance Dataset"
   ]
  },
  {
   "cell_type": "code",
   "execution_count": 11,
   "metadata": {
    "collapsed": false
   },
   "outputs": [
    {
     "data": {
      "image/png": "[encoded data removed]",
      "text/plain": [
       "<matplotlib.figure.Figure at 0x11a65d8d0>"
      ]
     },
     "metadata": {},
     "output_type": "display_data"
    }
   ],
   "source": [
    "mnist_rotate = np.ndarray(mnist_train.shape)\n",
    "for i, digit in enumerate(mnist_train):\n",
    "    angle = np.random.randint(30)\n",
    "    clockwise = np.random.randint(2)\n",
    "    if clockwise:\n",
    "        angle = 360 - angle\n",
    "    image = np.reshape(digit, (28,28))\n",
    "    image = rotate(image, angle, reshape=False, order=1)\n",
    "    image = normalize(image)\n",
    "    mnist_rotate[i] = np.reshape(image, 28*28)\n",
    "\n",
    "print_mnist(2, mnist_rotate, label_test, [1] )"
   ]
  },
  {
   "cell_type": "code",
   "execution_count": 12,
   "metadata": {
    "collapsed": true
   },
   "outputs": [],
   "source": [
    "# create new extended dataset\n",
    "mnist_extended = np.concatenate((mnist_train, mnist_rotate))#\n",
    "label_extended = np.concatenate((label_train, label_train))#\n",
    "\n",
    "# random shuffle datasets\n",
    "shuffle_mask = create_shuffle_mask(len(mnist_extended))\n",
    "mnist_extended = shuffle(mnist_extended, shuffle_mask)\n",
    "label_extended = shuffle(label_extended, shuffle_mask)\n",
    "\n",
    "# make batches for the new extended dataset\n",
    "batched_mnist_x = make_batched_dataset(mnist_extended, batch_size)\n",
    "batched_mnist_y = make_batched_dataset(label_extended, batch_size)"
   ]
  },
  {
   "cell_type": "markdown",
   "metadata": {},
   "source": [
    "# Train"
   ]
  },
  {
   "cell_type": "code",
   "execution_count": 13,
   "metadata": {
    "collapsed": false
   },
   "outputs": [
    {
     "name": "stdout",
     "output_type": "stream",
     "text": [
      "epoch = 0:\n",
      "accuracy = 85.4%\n",
      "epoch = 5:\n",
      "accuracy = 94.5%\n",
      "epoch = 10:\n",
      "accuracy = 95.7%\n",
      "epoch = 15:\n",
      "accuracy = 96.5%\n",
      "\n",
      "Final result on trainning set:\n",
      "accuracy = 98.3%\n",
      "Final result on test set:\n",
      "accuracy = 98.1%\n"
     ]
    }
   ],
   "source": [
    "with tf.Session() as sess:\n",
    "    # Our convolutional model\n",
    "    y = convolutional_model()\n",
    "\n",
    "    # We need a placeholder for the current alpha in the momentum method.\n",
    "    alpha = tf.placeholder(tf.float32)\n",
    "    \n",
    "    # Define cross_entropy and train step with MomentumOptimizer.\n",
    "    cross_entropy = tf.reduce_mean(tf.nn.softmax_cross_entropy_with_logits(y, y_))\n",
    "    train_step = tf.train.MomentumOptimizer(learning_rate=5e-4, momentum=alpha).minimize(cross_entropy)\n",
    "    \n",
    "    # Define accuracy\n",
    "    correct_prediction = tf.equal(tf.argmax(y, 1), tf.argmax(y_, 1))\n",
    "    accuracy = tf.reduce_mean(tf.cast(correct_prediction, tf.float32))\n",
    "    \n",
    "    def print_accuracy(feed_dict):\n",
    "        accuracy_ = sess.run(accuracy, feed_dict)    \n",
    "        print('accuracy = {:2.1f}%'.format(100 * accuracy_))\n",
    "    \n",
    "    # Create the initialization step and run it.\n",
    "    init = tf.initialize_all_variables()\n",
    "    sess.run(init)\n",
    "        \n",
    "    # Define dataset dictionaries as inputs for future operations.\n",
    "    train_ext_feed_dict = {\n",
    "        x: mnist_extended,\n",
    "        y_: label_extended,\n",
    "        keep_prob: 1\n",
    "    }\n",
    "    \n",
    "    train_feed_dict = {\n",
    "        x: mnist_train,\n",
    "        y_: label_train,\n",
    "        keep_prob: 1.\n",
    "    }\n",
    "    \n",
    "    test_feed_dict = {\n",
    "        x: mnist_test,\n",
    "        y_: label_test,\n",
    "        keep_prob: 1.\n",
    "    }\n",
    "    \n",
    "    # Training cycle.\n",
    "    epochs = 20\n",
    "    # An epoch runs over all batches.\n",
    "    for e in range(epochs):\n",
    "        batches, _, _ = batched_mnist_x.shape\n",
    "        # Batch cycle.\n",
    "        for i in range(batches):\n",
    "            # Define alpha in terms of the epoch e.\n",
    "            curr_alpha = 0.5\n",
    "            if e > 15:\n",
    "                curr_alpha = 0.9\n",
    "            if e > 18:\n",
    "                curr_alpha = 0.99\n",
    "                \n",
    "            # Run training step.\n",
    "            sess.run(train_step,\n",
    "                     feed_dict={x: batched_mnist_x[i],\n",
    "                                y_: batched_mnist_y[i],\n",
    "                                keep_prob: 0.5,\n",
    "                                alpha: curr_alpha}\n",
    "                    )\n",
    "            \n",
    "        # Each two epochs print the current accuracy.\n",
    "        if e % 5 == 0:\n",
    "            print('epoch = {}:'.format(e))\n",
    "            print_accuracy(test_feed_dict)\n",
    "\n",
    "    print()\n",
    "                \n",
    "    # Trainning is done.\n",
    "    # Print final accuracy on trainning and test sets.\n",
    "    print('Final result on trainning set:')\n",
    "    print_accuracy(train_feed_dict)\n",
    "    \n",
    "    print('Final result on test set:')\n",
    "    print_accuracy(test_feed_dict)\n",
    "    \n",
    "    # Record predictions and errors.\n",
    "    predictions = sess.run(y, feed_dict=test_feed_dict)\n",
    "    errors = sess.run(correct_prediction, feed_dict=test_feed_dict)"
   ]
  },
  {
   "cell_type": "markdown",
   "metadata": {},
   "source": [
    "# Let's see the errors for this net"
   ]
  },
  {
   "cell_type": "code",
   "execution_count": 14,
   "metadata": {
    "collapsed": false
   },
   "outputs": [
    {
     "data": {
      "image/png": "[encoded data removed]",
      "text/plain": [
       "<matplotlib.figure.Figure at 0x11a6919e8>"
      ]
     },
     "metadata": {},
     "output_type": "display_data"
    }
   ],
   "source": [
    "show_errors(errors, predictions)"
   ]
  },
  {
   "cell_type": "code",
   "execution_count": null,
   "metadata": {
    "collapsed": true
   },
   "outputs": [],
   "source": []
  }
 ],
 "metadata": {
  "kernelspec": {
   "display_name": "Python 3",
   "language": "python",
   "name": "python3"
  },
  "language_info": {
   "codemirror_mode": {
    "name": "ipython",
    "version": 3
   },
   "file_extension": ".py",
   "mimetype": "text/x-python",
   "name": "python",
   "nbconvert_exporter": "python",
   "pygments_lexer": "ipython3",
   "version": "3.5.2"
  }
 },
 "nbformat": 4,
 "nbformat_minor": 1
}
